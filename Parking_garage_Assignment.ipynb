{
  "nbformat": 4,
  "nbformat_minor": 0,
  "metadata": {
    "colab": {
      "provenance": [],
      "authorship_tag": "ABX9TyM0WgGT22UsUXZ7jtcE1QQS",
      "include_colab_link": true
    },
    "kernelspec": {
      "name": "python3",
      "display_name": "Python 3"
    },
    "language_info": {
      "name": "python"
    }
  },
  "cells": [
    {
      "cell_type": "markdown",
      "metadata": {
        "id": "view-in-github",
        "colab_type": "text"
      },
      "source": [
        "<a href=\"https://colab.research.google.com/github/EricSafavi/Python-1/blob/main/Parking_garage_Assignment.ipynb\" target=\"_parent\"><img src=\"https://colab.research.google.com/assets/colab-badge.svg\" alt=\"Open In Colab\"/></a>"
      ]
    },
    {
      "cell_type": "code",
      "execution_count": 1,
      "metadata": {
        "colab": {
          "base_uri": "https://localhost:8080/"
        },
        "id": "Vggp_NR-WM6l",
        "outputId": "5571829b-6320-4888-d648-4072f66236d0"
      },
      "outputs": [
        {
          "output_type": "stream",
          "name": "stdout",
          "text": [
            "Enter number of hours parked: 3\n",
            "7.5\n"
          ]
        }
      ],
      "source": [
        "hours = int(input('Enter number of hours parked: '))\n",
        "fee = 2.5 * hours\n",
        "if fee <= 6:\n",
        "  print(6)\n",
        "elif fee >= 20:\n",
        "  print(20)\n",
        "else:\n",
        "  print(fee)"
      ]
    }
  ]
}