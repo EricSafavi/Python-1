{
  "nbformat": 4,
  "nbformat_minor": 0,
  "metadata": {
    "colab": {
      "provenance": [],
      "authorship_tag": "ABX9TyPqER/8bo/gfX3q3xCn6azO",
      "include_colab_link": true
    },
    "kernelspec": {
      "name": "python3",
      "display_name": "Python 3"
    },
    "language_info": {
      "name": "python"
    }
  },
  "cells": [
    {
      "cell_type": "markdown",
      "metadata": {
        "id": "view-in-github",
        "colab_type": "text"
      },
      "source": [
        "<a href=\"https://colab.research.google.com/github/EricSafavi/Python-1/blob/main/Calculator.ipynb\" target=\"_parent\"><img src=\"https://colab.research.google.com/assets/colab-badge.svg\" alt=\"Open In Colab\"/></a>"
      ]
    },
    {
      "cell_type": "code",
      "execution_count": 2,
      "metadata": {
        "id": "p9oSAfBcbqek",
        "colab": {
          "base_uri": "https://localhost:8080/"
        },
        "outputId": "ac0fa76b-7179-4705-e032-74ec643df208"
      },
      "outputs": [
        {
          "output_type": "stream",
          "name": "stdout",
          "text": [
            "Enter the first number (or 'break' to exit): 2\n",
            "Enter an operator (+, -, *, /, //, %, **): +\n",
            "Enter the second number: 2\n",
            "The result is: 4.0\n",
            "Enter the first number (or 'break' to exit): break\n",
            "Exiting calculator.\n"
          ]
        }
      ],
      "source": [
        "while True:\n",
        "    first_input = input(\"Enter the first number (or 'break' to exit): \")\n",
        "    if first_input.lower() == \"break\":\n",
        "        print(\"Exiting calculator.\")\n",
        "        break\n",
        "\n",
        "    try:\n",
        "        first_number = float(first_input)\n",
        "    except ValueError:\n",
        "        print(\"This is not a number. Please try again.\")\n",
        "        continue\n",
        "\n",
        "    operator = input(\"Enter an operator (+, -, *, /, //, %, **): \")\n",
        "    if operator.lower() == \"break\":\n",
        "        print(\"Exiting calculator.\")\n",
        "        break\n",
        "\n",
        "    if operator not in [\"+\", \"-\", \"*\", \"/\", \"//\", \"%\", \"**\"]:\n",
        "        print(\"Unsupported operator. Please try again.\")\n",
        "        continue\n",
        "\n",
        "    second_input = input(\"Enter the second number: \")\n",
        "    try:\n",
        "        second_number = float(second_input)\n",
        "    except ValueError:\n",
        "        print(\"This is not a number. Please try again.\")\n",
        "        continue\n",
        "\n",
        "    try:\n",
        "        if operator == \"+\":\n",
        "            result = first_number + second_number\n",
        "        elif operator == \"-\":\n",
        "            result = first_number - second_number\n",
        "        elif operator == \"*\":\n",
        "            result = first_number * second_number\n",
        "        elif operator == \"/\":\n",
        "            if second_number == 0:\n",
        "                print(\"Cannot divide by zero.\")\n",
        "                continue\n",
        "            result = first_number / second_number\n",
        "        elif operator == \"//\":\n",
        "            if second_number == 0:\n",
        "                print(\"Cannot divide by zero.\")\n",
        "                continue\n",
        "            result = first_number // second_number\n",
        "        elif operator == \"%\":\n",
        "            result = first_number % second_number\n",
        "        elif operator == \"**\":\n",
        "            result = first_number ** second_number\n",
        "\n",
        "        print(f\"The result is: {result}\")\n",
        "    except Exception as e:\n",
        "        print(f\"An error occurred: {e}\")\n"
      ]
    },
    {
      "cell_type": "code",
      "source": [],
      "metadata": {
        "id": "EdwQVEifdiPI"
      },
      "execution_count": null,
      "outputs": []
    }
  ]
}