{
  "nbformat": 4,
  "nbformat_minor": 0,
  "metadata": {
    "colab": {
      "provenance": [],
      "authorship_tag": "ABX9TyNaB0Nsmcw5Hdhrz9Tmms3s",
      "include_colab_link": true
    },
    "kernelspec": {
      "name": "python3",
      "display_name": "Python 3"
    },
    "language_info": {
      "name": "python"
    }
  },
  "cells": [
    {
      "cell_type": "markdown",
      "metadata": {
        "id": "view-in-github",
        "colab_type": "text"
      },
      "source": [
        "<a href=\"https://colab.research.google.com/github/EricSafavi/Python-1/blob/main/Calculator.ipynb\" target=\"_parent\"><img src=\"https://colab.research.google.com/assets/colab-badge.svg\" alt=\"Open In Colab\"/></a>"
      ]
    },
    {
      "cell_type": "code",
      "source": [
        "while True:\n",
        "  num1 = float(input(\"Enter first number: \"))\n",
        "  num2 = float(input(\"Enter second number: \"))\n",
        "  operator = input('Enter the operator: ')\n",
        "\n",
        "\n",
        "  if operator == 'break':\n",
        "      break\n",
        "\n",
        "      if operator == \"+\":\n",
        "        answer = num1 + num2\n",
        "      elif operator == \"-\":\n",
        "                answer = num1 - num2\n",
        "      elif operator == \"*\":\n",
        "              answer = num1 * num2\n",
        "      elif operator == \"/\":\n",
        "              answer = num1 / num2\n",
        "      elif opperator == \"//\":\n",
        "                answer = num1 // num2\n",
        "      elif operator == \"**\":\n",
        "              answer = num1 ** num2\n",
        "      elif operator == \"%\":\n",
        "              answer = num1 % num2\n",
        "      else:\n",
        "        print('Invalid operator:', operator)\n",
        "        continue\n",
        "\n",
        "        print('Result:', answer)\n",
        "\n",
        "\n",
        "\n",
        "\n",
        "\n",
        "\n",
        "\n",
        "\n",
        "\n"
      ],
      "metadata": {
        "id": "EdwQVEifdiPI"
      },
      "execution_count": null,
      "outputs": []
    }
  ]
}