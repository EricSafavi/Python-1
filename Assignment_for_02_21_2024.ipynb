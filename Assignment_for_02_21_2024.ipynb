{
  "nbformat": 4,
  "nbformat_minor": 0,
  "metadata": {
    "colab": {
      "provenance": [],
      "authorship_tag": "ABX9TyMpIXIArFYEu1pqVX24i1X2",
      "include_colab_link": true
    },
    "kernelspec": {
      "name": "python3",
      "display_name": "Python 3"
    },
    "language_info": {
      "name": "python"
    }
  },
  "cells": [
    {
      "cell_type": "markdown",
      "metadata": {
        "id": "view-in-github",
        "colab_type": "text"
      },
      "source": [
        "<a href=\"https://colab.research.google.com/github/EricSafavi/Python-1/blob/main/Assignment_for_02_21_2024.ipynb\" target=\"_parent\"><img src=\"https://colab.research.google.com/assets/colab-badge.svg\" alt=\"Open In Colab\"/></a>"
      ]
    },
    {
      "cell_type": "code",
      "execution_count": 9,
      "metadata": {
        "colab": {
          "base_uri": "https://localhost:8080/"
        },
        "id": "j3EGc1B-wZfx",
        "outputId": "285ff0fa-f925-49a2-b0d7-4abffd11bf4c"
      },
      "outputs": [
        {
          "output_type": "stream",
          "name": "stdout",
          "text": [
            "Enter date (MM/DD/YYYY)02/21/2024\n",
            "02\n",
            "21\n",
            "2024\n",
            "02 21 2024\n"
          ]
        }
      ],
      "source": [
        "date = input (\"Enter date (MM/DD/YYYY)\")\n",
        "\n",
        "s = '02/21/2024'\n",
        "\n",
        "month = s[0:2]\n",
        "print(month_s)\n",
        "\n",
        "day = s[3:5]\n",
        "print(day_s)\n",
        "\n",
        "year = s[6:len(s)]\n",
        "print(year_s)\n",
        "\n",
        "print(month, day, year)"
      ]
    }
  ]
}