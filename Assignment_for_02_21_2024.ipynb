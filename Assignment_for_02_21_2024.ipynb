{
  "nbformat": 4,
  "nbformat_minor": 0,
  "metadata": {
    "colab": {
      "provenance": [],
      "authorship_tag": "ABX9TyPb/AHuqLLaIc8F6By26ieA",
      "include_colab_link": true
    },
    "kernelspec": {
      "name": "python3",
      "display_name": "Python 3"
    },
    "language_info": {
      "name": "python"
    }
  },
  "cells": [
    {
      "cell_type": "markdown",
      "metadata": {
        "id": "view-in-github",
        "colab_type": "text"
      },
      "source": [
        "<a href=\"https://colab.research.google.com/github/EricSafavi/Python-1/blob/main/Assignment_for_02_21_2024.ipynb\" target=\"_parent\"><img src=\"https://colab.research.google.com/assets/colab-badge.svg\" alt=\"Open In Colab\"/></a>"
      ]
    },
    {
      "cell_type": "code",
      "execution_count": 5,
      "metadata": {
        "colab": {
          "base_uri": "https://localhost:8080/"
        },
        "id": "j3EGc1B-wZfx",
        "outputId": "20470aee-f9c0-4e90-9388-a48473913e88"
      },
      "outputs": [
        {
          "output_type": "stream",
          "name": "stdout",
          "text": [
            "02\n",
            "21\n",
            "2024\n"
          ]
        }
      ],
      "source": [
        "s = '02/21/2024'\n",
        "\n",
        "month_s = s[:2]\n",
        "print(month_s)\n",
        "\n",
        "day_s = s[3:5]\n",
        "print(day_s)\n",
        "\n",
        "year_s = s[6:len(s)]\n",
        "print(year_s)"
      ]
    }
  ]
}