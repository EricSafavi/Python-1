{
  "nbformat": 4,
  "nbformat_minor": 0,
  "metadata": {
    "colab": {
      "provenance": [],
      "authorship_tag": "ABX9TyMh4pyLizlg7xu14V9GXjA/",
      "include_colab_link": true
    },
    "kernelspec": {
      "name": "python3",
      "display_name": "Python 3"
    },
    "language_info": {
      "name": "python"
    }
  },
  "cells": [
    {
      "cell_type": "markdown",
      "metadata": {
        "id": "view-in-github",
        "colab_type": "text"
      },
      "source": [
        "<a href=\"https://colab.research.google.com/github/EricSafavi/Python-1/blob/main/%22This_is_a_Test%22_Classnotes_02_16_2024.ipynb\" target=\"_parent\"><img src=\"https://colab.research.google.com/assets/colab-badge.svg\" alt=\"Open In Colab\"/></a>"
      ]
    },
    {
      "cell_type": "code",
      "execution_count": 3,
      "metadata": {
        "colab": {
          "base_uri": "https://localhost:8080/"
        },
        "id": "GcfhEdcK-OTg",
        "outputId": "2fdadc09-fc08-42af-ea7a-00f2feb3e228"
      },
      "outputs": [
        {
          "output_type": "stream",
          "name": "stdout",
          "text": [
            "t\n"
          ]
        }
      ],
      "source": [
        "s = 'This is a test'\n",
        "\n",
        "s2 = 'This is another test'\n",
        "\n",
        "len(s)\n",
        "\n",
        "print (s[len(s)-1])"
      ]
    },
    {
      "cell_type": "code",
      "source": [
        "s = 'This is a test'\n",
        "is_word = s[0:4:1]\n",
        "print(is_word)\n",
        "\n",
        "#start counting each letter from 0"
      ],
      "metadata": {
        "colab": {
          "base_uri": "https://localhost:8080/"
        },
        "id": "JFpM9uoq-6wq",
        "outputId": "69db1645-00c7-4563-a489-d5a637f6d8c1"
      },
      "execution_count": 18,
      "outputs": [
        {
          "output_type": "stream",
          "name": "stdout",
          "text": [
            "This\n"
          ]
        }
      ]
    },
    {
      "cell_type": "code",
      "source": [
        "#or you could do this:\n",
        "\n",
        "s = 'This is a test'\n",
        "is_word = s[0:4]\n",
        "print(is_word)\n",
        "\n",
        "#start counting each letter from 0"
      ],
      "metadata": {
        "colab": {
          "base_uri": "https://localhost:8080/"
        },
        "id": "4Xwb3w_HBgF7",
        "outputId": "2fa0c77b-a165-48b5-d49b-004cbe7388a0"
      },
      "execution_count": 20,
      "outputs": [
        {
          "output_type": "stream",
          "name": "stdout",
          "text": [
            "This\n"
          ]
        }
      ]
    },
    {
      "cell_type": "code",
      "source": [
        "\n",
        "s = 'This is a test'\n",
        "this_word = s[0:4]\n",
        "test_word = s[10:len(s)]\n",
        "print(this_word, test_word)"
      ],
      "metadata": {
        "colab": {
          "base_uri": "https://localhost:8080/"
        },
        "id": "Vqv5pcCXBoUq",
        "outputId": "37ba5dad-2aae-4dc9-8c7b-69e5ae590fd6"
      },
      "execution_count": 21,
      "outputs": [
        {
          "output_type": "stream",
          "name": "stdout",
          "text": [
            "This test\n"
          ]
        }
      ]
    },
    {
      "cell_type": "code",
      "source": [
        " s ='This is a test'\n",
        "\n",
        "s2 = 'This is another test'\n",
        "\n",
        "print(s[13], s[len(s)-1],s[-1])"
      ],
      "metadata": {
        "colab": {
          "base_uri": "https://localhost:8080/"
        },
        "id": "iBaRR8vEAgyt",
        "outputId": "3a442f48-5706-4a95-f218-aae9cec60cda"
      },
      "execution_count": 17,
      "outputs": [
        {
          "output_type": "stream",
          "name": "stdout",
          "text": [
            "t t t\n"
          ]
        }
      ]
    },
    {
      "cell_type": "code",
      "source": [
        "s = 'This is a test'\n",
        "this_word = s[:4]\n",
        "test_word = s[10:]\n",
        "print(this_word, test_word)"
      ],
      "metadata": {
        "colab": {
          "base_uri": "https://localhost:8080/"
        },
        "id": "XeRyE4hSDNGY",
        "outputId": "e9d1a029-5e4d-4d6b-d115-ca656fb0c295"
      },
      "execution_count": 22,
      "outputs": [
        {
          "output_type": "stream",
          "name": "stdout",
          "text": [
            "This test\n"
          ]
        }
      ]
    },
    {
      "cell_type": "code",
      "source": [
        "s[10:len(s)]==s[10:]"
      ],
      "metadata": {
        "colab": {
          "base_uri": "https://localhost:8080/"
        },
        "id": "jRm9SEGvDsAh",
        "outputId": "0912f3bc-b716-43e6-cacb-0758648d68d4"
      },
      "execution_count": 23,
      "outputs": [
        {
          "output_type": "execute_result",
          "data": {
            "text/plain": [
              "True"
            ]
          },
          "metadata": {},
          "execution_count": 23
        }
      ]
    },
    {
      "cell_type": "code",
      "source": [
        "s = 'This is a test'\n",
        "s[:]\n",
        "\n",
        "print(s)\n",
        "\n",
        "#s[:] goes from end to beginning"
      ],
      "metadata": {
        "colab": {
          "base_uri": "https://localhost:8080/"
        },
        "id": "a6HD5RmDD05x",
        "outputId": "c04fce1a-f51b-47f8-a09b-87364ef8c9cb"
      },
      "execution_count": 25,
      "outputs": [
        {
          "output_type": "stream",
          "name": "stdout",
          "text": [
            "This is a test\n"
          ]
        }
      ]
    },
    {
      "cell_type": "code",
      "source": [
        "\n",
        "s = 'This is a test'\n",
        "\n",
        "s[1:12:2]"
      ],
      "metadata": {
        "colab": {
          "base_uri": "https://localhost:8080/",
          "height": 35
        },
        "id": "56J2jq8HEeR4",
        "outputId": "55394956-5b47-4b7b-de75-56f4bc48b482"
      },
      "execution_count": 27,
      "outputs": [
        {
          "output_type": "execute_result",
          "data": {
            "text/plain": [
              "'hsi  e'"
            ],
            "application/vnd.google.colaboratory.intrinsic+json": {
              "type": "string"
            }
          },
          "metadata": {},
          "execution_count": 27
        }
      ]
    },
    {
      "cell_type": "code",
      "source": [
        "t1 = 'ab'\n",
        "t2= 'cd'\n",
        "\n",
        "t1+t2\n",
        "\n",
        "#combining strings to make a new string"
      ],
      "metadata": {
        "colab": {
          "base_uri": "https://localhost:8080/",
          "height": 35
        },
        "id": "RUSD7tMdE8gt",
        "outputId": "8c27bc04-b6a0-4e25-f4a8-e9b786a7b896"
      },
      "execution_count": 28,
      "outputs": [
        {
          "output_type": "execute_result",
          "data": {
            "text/plain": [
              "'abcd'"
            ],
            "application/vnd.google.colaboratory.intrinsic+json": {
              "type": "string"
            }
          },
          "metadata": {},
          "execution_count": 28
        }
      ]
    },
    {
      "cell_type": "code",
      "source": [
        "t1 = 'ab'\n",
        "t2= 'cd'\n",
        "\n",
        "3*t1\n",
        "\n",
        "#means ab+ab+ab"
      ],
      "metadata": {
        "colab": {
          "base_uri": "https://localhost:8080/",
          "height": 35
        },
        "id": "aykgC72xFirE",
        "outputId": "0d4aa7dd-890e-4e8d-f901-d47dac5265e3"
      },
      "execution_count": 31,
      "outputs": [
        {
          "output_type": "execute_result",
          "data": {
            "text/plain": [
              "'ababab'"
            ],
            "application/vnd.google.colaboratory.intrinsic+json": {
              "type": "string"
            }
          },
          "metadata": {},
          "execution_count": 31
        }
      ]
    }
  ]
}